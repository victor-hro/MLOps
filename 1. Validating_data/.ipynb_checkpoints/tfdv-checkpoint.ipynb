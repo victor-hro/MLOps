{
 "cells": [
  {
   "cell_type": "code",
   "execution_count": 1,
   "id": "confirmed-irrigation",
   "metadata": {},
   "outputs": [],
   "source": [
    "# dataset download:"
   ]
  },
  {
   "cell_type": "code",
   "execution_count": 3,
   "id": "noble-glory",
   "metadata": {},
   "outputs": [],
   "source": [
    "import tensorflow as tf\n",
    "import tensorflow_data_validation as tfdv\n",
    "import pandas as pd\n",
    "\n",
    "from sklearn.model_selection import train_test_split\n",
    "from tensorflow_metadata.proto.v0 import schema_pb2"
   ]
  },
  {
   "cell_type": "code",
   "execution_count": 4,
   "id": "encouraging-stations",
   "metadata": {},
   "outputs": [],
   "source": [
    "df = pd.read_csv('data/mall_customers.csv')\n",
    "\n",
    "# Split the dataset into train and eval\n",
    "train_df, eval_df = train_test_split(df, test_size=0.2, shuffle=False)"
   ]
  },
  {
   "cell_type": "code",
   "execution_count": 3,
   "id": "basic-masters",
   "metadata": {},
   "outputs": [
    {
     "data": {
      "text/html": [
       "<div>\n",
       "<style scoped>\n",
       "    .dataframe tbody tr th:only-of-type {\n",
       "        vertical-align: middle;\n",
       "    }\n",
       "\n",
       "    .dataframe tbody tr th {\n",
       "        vertical-align: top;\n",
       "    }\n",
       "\n",
       "    .dataframe thead th {\n",
       "        text-align: right;\n",
       "    }\n",
       "</style>\n",
       "<table border=\"1\" class=\"dataframe\">\n",
       "  <thead>\n",
       "    <tr style=\"text-align: right;\">\n",
       "      <th></th>\n",
       "      <th>CustomerID</th>\n",
       "      <th>Gender</th>\n",
       "      <th>Age</th>\n",
       "      <th>Annual Income (k$)</th>\n",
       "      <th>Spending Score (1-100)</th>\n",
       "    </tr>\n",
       "  </thead>\n",
       "  <tbody>\n",
       "    <tr>\n",
       "      <th>0</th>\n",
       "      <td>1</td>\n",
       "      <td>Male</td>\n",
       "      <td>19</td>\n",
       "      <td>15</td>\n",
       "      <td>39</td>\n",
       "    </tr>\n",
       "    <tr>\n",
       "      <th>1</th>\n",
       "      <td>2</td>\n",
       "      <td>Male</td>\n",
       "      <td>21</td>\n",
       "      <td>15</td>\n",
       "      <td>81</td>\n",
       "    </tr>\n",
       "    <tr>\n",
       "      <th>2</th>\n",
       "      <td>3</td>\n",
       "      <td>Female</td>\n",
       "      <td>20</td>\n",
       "      <td>16</td>\n",
       "      <td>6</td>\n",
       "    </tr>\n",
       "    <tr>\n",
       "      <th>3</th>\n",
       "      <td>4</td>\n",
       "      <td>Female</td>\n",
       "      <td>23</td>\n",
       "      <td>16</td>\n",
       "      <td>77</td>\n",
       "    </tr>\n",
       "    <tr>\n",
       "      <th>4</th>\n",
       "      <td>5</td>\n",
       "      <td>Female</td>\n",
       "      <td>31</td>\n",
       "      <td>17</td>\n",
       "      <td>40</td>\n",
       "    </tr>\n",
       "  </tbody>\n",
       "</table>\n",
       "</div>"
      ],
      "text/plain": [
       "   CustomerID  Gender  Age  Annual Income (k$)  Spending Score (1-100)\n",
       "0           1    Male   19                  15                      39\n",
       "1           2    Male   21                  15                      81\n",
       "2           3  Female   20                  16                       6\n",
       "3           4  Female   23                  16                      77\n",
       "4           5  Female   31                  17                      40"
      ]
     },
     "execution_count": 3,
     "metadata": {},
     "output_type": "execute_result"
    }
   ],
   "source": [
    "train_df.head()"
   ]
  },
  {
   "cell_type": "code",
   "execution_count": 5,
   "id": "metallic-poetry",
   "metadata": {},
   "outputs": [
    {
     "data": {
      "text/html": [
       "<div>\n",
       "<style scoped>\n",
       "    .dataframe tbody tr th:only-of-type {\n",
       "        vertical-align: middle;\n",
       "    }\n",
       "\n",
       "    .dataframe tbody tr th {\n",
       "        vertical-align: top;\n",
       "    }\n",
       "\n",
       "    .dataframe thead th {\n",
       "        text-align: right;\n",
       "    }\n",
       "</style>\n",
       "<table border=\"1\" class=\"dataframe\">\n",
       "  <thead>\n",
       "    <tr style=\"text-align: right;\">\n",
       "      <th></th>\n",
       "      <th>CustomerID</th>\n",
       "      <th>Gender</th>\n",
       "      <th>Age</th>\n",
       "      <th>Annual Income (k$)</th>\n",
       "      <th>Spending Score (1-100)</th>\n",
       "    </tr>\n",
       "  </thead>\n",
       "  <tbody>\n",
       "    <tr>\n",
       "      <th>160</th>\n",
       "      <td>161</td>\n",
       "      <td>Female</td>\n",
       "      <td>56</td>\n",
       "      <td>79</td>\n",
       "      <td>35</td>\n",
       "    </tr>\n",
       "    <tr>\n",
       "      <th>161</th>\n",
       "      <td>162</td>\n",
       "      <td>Female</td>\n",
       "      <td>29</td>\n",
       "      <td>79</td>\n",
       "      <td>83</td>\n",
       "    </tr>\n",
       "    <tr>\n",
       "      <th>162</th>\n",
       "      <td>163</td>\n",
       "      <td>Male</td>\n",
       "      <td>19</td>\n",
       "      <td>81</td>\n",
       "      <td>5</td>\n",
       "    </tr>\n",
       "    <tr>\n",
       "      <th>163</th>\n",
       "      <td>164</td>\n",
       "      <td>Female</td>\n",
       "      <td>31</td>\n",
       "      <td>81</td>\n",
       "      <td>93</td>\n",
       "    </tr>\n",
       "    <tr>\n",
       "      <th>164</th>\n",
       "      <td>165</td>\n",
       "      <td>Male</td>\n",
       "      <td>50</td>\n",
       "      <td>85</td>\n",
       "      <td>26</td>\n",
       "    </tr>\n",
       "  </tbody>\n",
       "</table>\n",
       "</div>"
      ],
      "text/plain": [
       "     CustomerID  Gender  Age  Annual Income (k$)  Spending Score (1-100)\n",
       "160         161  Female   56                  79                      35\n",
       "161         162  Female   29                  79                      83\n",
       "162         163    Male   19                  81                       5\n",
       "163         164  Female   31                  81                      93\n",
       "164         165    Male   50                  85                      26"
      ]
     },
     "execution_count": 5,
     "metadata": {},
     "output_type": "execute_result"
    }
   ],
   "source": [
    "eval_df.head()"
   ]
  },
  {
   "cell_type": "code",
   "execution_count": 6,
   "id": "structured-spectrum",
   "metadata": {},
   "outputs": [],
   "source": [
    "# add extra rows to the eval set to include anomaly data\n",
    "def add_extra_rows(df):\n",
    "    rows = [\n",
    "        {\n",
    "            'CustomerID': 0000,\n",
    "            'Gender': '?',\n",
    "            'Age': 24,\n",
    "            'Annual Income (k$)': 10,\n",
    "            'Spending Score (1-100)': 50\n",
    "        },\n",
    "        {\n",
    "            'CustomerID': 00000,\n",
    "            'Gender': 'NonBinary',\n",
    "            'Age': 30,\n",
    "            'Annual Income (k$)': 0,\n",
    "            'Spending Score (1-100)': 90\n",
    "        },\n",
    "    ]\n",
    "\n",
    "    df = df.append(rows, ignore_index=True)\n",
    "\n",
    "    return df"
   ]
  },
  {
   "cell_type": "code",
   "execution_count": 7,
   "id": "stupid-mayor",
   "metadata": {},
   "outputs": [
    {
     "data": {
      "text/html": [
       "<div>\n",
       "<style scoped>\n",
       "    .dataframe tbody tr th:only-of-type {\n",
       "        vertical-align: middle;\n",
       "    }\n",
       "\n",
       "    .dataframe tbody tr th {\n",
       "        vertical-align: top;\n",
       "    }\n",
       "\n",
       "    .dataframe thead th {\n",
       "        text-align: right;\n",
       "    }\n",
       "</style>\n",
       "<table border=\"1\" class=\"dataframe\">\n",
       "  <thead>\n",
       "    <tr style=\"text-align: right;\">\n",
       "      <th></th>\n",
       "      <th>CustomerID</th>\n",
       "      <th>Gender</th>\n",
       "      <th>Age</th>\n",
       "      <th>Annual Income (k$)</th>\n",
       "      <th>Spending Score (1-100)</th>\n",
       "    </tr>\n",
       "  </thead>\n",
       "  <tbody>\n",
       "    <tr>\n",
       "      <th>37</th>\n",
       "      <td>198</td>\n",
       "      <td>Male</td>\n",
       "      <td>32</td>\n",
       "      <td>126</td>\n",
       "      <td>74</td>\n",
       "    </tr>\n",
       "    <tr>\n",
       "      <th>38</th>\n",
       "      <td>199</td>\n",
       "      <td>Male</td>\n",
       "      <td>32</td>\n",
       "      <td>137</td>\n",
       "      <td>18</td>\n",
       "    </tr>\n",
       "    <tr>\n",
       "      <th>39</th>\n",
       "      <td>200</td>\n",
       "      <td>Male</td>\n",
       "      <td>30</td>\n",
       "      <td>137</td>\n",
       "      <td>83</td>\n",
       "    </tr>\n",
       "    <tr>\n",
       "      <th>40</th>\n",
       "      <td>0</td>\n",
       "      <td>?</td>\n",
       "      <td>24</td>\n",
       "      <td>10</td>\n",
       "      <td>50</td>\n",
       "    </tr>\n",
       "    <tr>\n",
       "      <th>41</th>\n",
       "      <td>0</td>\n",
       "      <td>NonBinary</td>\n",
       "      <td>30</td>\n",
       "      <td>0</td>\n",
       "      <td>90</td>\n",
       "    </tr>\n",
       "  </tbody>\n",
       "</table>\n",
       "</div>"
      ],
      "text/plain": [
       "    CustomerID     Gender  Age  Annual Income (k$)  Spending Score (1-100)\n",
       "37         198       Male   32                 126                      74\n",
       "38         199       Male   32                 137                      18\n",
       "39         200       Male   30                 137                      83\n",
       "40           0          ?   24                  10                      50\n",
       "41           0  NonBinary   30                   0                      90"
      ]
     },
     "execution_count": 7,
     "metadata": {},
     "output_type": "execute_result"
    }
   ],
   "source": [
    "eval_df = add_extra_rows(eval_df)\n",
    "eval_df.tail(5)"
   ]
  },
  {
   "cell_type": "code",
   "execution_count": 9,
   "id": "important-yemen",
   "metadata": {},
   "outputs": [
    {
     "data": {
      "text/html": [
       "<iframe id='facets-iframe' width=\"100%\" height=\"500px\"></iframe>\n",
       "        <script>\n",
       "        facets_iframe = document.getElementById('facets-iframe');\n",
       "        facets_html = '<script src=\"https://cdnjs.cloudflare.com/ajax/libs/webcomponentsjs/1.3.3/webcomponents-lite.js\"><\\/script><link rel=\"import\" href=\"https://raw.githubusercontent.com/PAIR-code/facets/master/facets-dist/facets-jupyter.html\"><facets-overview proto-input=\"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\"></facets-overview>';\n",
       "        facets_iframe.srcdoc = facets_html;\n",
       "         facets_iframe.id = \"\";\n",
       "         setTimeout(() => {\n",
       "           facets_iframe.setAttribute('height', facets_iframe.contentWindow.document.body.offsetHeight + 'px')\n",
       "         }, 1500)\n",
       "         </script>"
      ],
      "text/plain": [
       "<IPython.core.display.HTML object>"
      ]
     },
     "metadata": {},
     "output_type": "display_data"
    }
   ],
   "source": [
    "# Generate training dataset statistics\n",
    "train_stats = tfdv.generate_statistics_from_dataframe(train_df)\n",
    "\n",
    "tfdv.visualize_statistics(train_stats)"
   ]
  },
  {
   "cell_type": "code",
   "execution_count": 10,
   "id": "intensive-press",
   "metadata": {},
   "outputs": [
    {
     "data": {
      "text/html": [
       "<div>\n",
       "<style scoped>\n",
       "    .dataframe tbody tr th:only-of-type {\n",
       "        vertical-align: middle;\n",
       "    }\n",
       "\n",
       "    .dataframe tbody tr th {\n",
       "        vertical-align: top;\n",
       "    }\n",
       "\n",
       "    .dataframe thead th {\n",
       "        text-align: right;\n",
       "    }\n",
       "</style>\n",
       "<table border=\"1\" class=\"dataframe\">\n",
       "  <thead>\n",
       "    <tr style=\"text-align: right;\">\n",
       "      <th></th>\n",
       "      <th>Type</th>\n",
       "      <th>Presence</th>\n",
       "      <th>Valency</th>\n",
       "      <th>Domain</th>\n",
       "    </tr>\n",
       "    <tr>\n",
       "      <th>Feature name</th>\n",
       "      <th></th>\n",
       "      <th></th>\n",
       "      <th></th>\n",
       "      <th></th>\n",
       "    </tr>\n",
       "  </thead>\n",
       "  <tbody>\n",
       "    <tr>\n",
       "      <th>'CustomerID'</th>\n",
       "      <td>INT</td>\n",
       "      <td>required</td>\n",
       "      <td></td>\n",
       "      <td>-</td>\n",
       "    </tr>\n",
       "    <tr>\n",
       "      <th>'Gender'</th>\n",
       "      <td>STRING</td>\n",
       "      <td>required</td>\n",
       "      <td></td>\n",
       "      <td>'Gender'</td>\n",
       "    </tr>\n",
       "    <tr>\n",
       "      <th>'Age'</th>\n",
       "      <td>INT</td>\n",
       "      <td>required</td>\n",
       "      <td></td>\n",
       "      <td>-</td>\n",
       "    </tr>\n",
       "    <tr>\n",
       "      <th>'Annual Income (k$)'</th>\n",
       "      <td>INT</td>\n",
       "      <td>required</td>\n",
       "      <td></td>\n",
       "      <td>-</td>\n",
       "    </tr>\n",
       "    <tr>\n",
       "      <th>'Spending Score (1-100)'</th>\n",
       "      <td>INT</td>\n",
       "      <td>required</td>\n",
       "      <td></td>\n",
       "      <td>-</td>\n",
       "    </tr>\n",
       "  </tbody>\n",
       "</table>\n",
       "</div>"
      ],
      "text/plain": [
       "                            Type  Presence Valency    Domain\n",
       "Feature name                                                \n",
       "'CustomerID'                 INT  required                 -\n",
       "'Gender'                  STRING  required          'Gender'\n",
       "'Age'                        INT  required                 -\n",
       "'Annual Income (k$)'         INT  required                 -\n",
       "'Spending Score (1-100)'     INT  required                 -"
      ]
     },
     "metadata": {},
     "output_type": "display_data"
    },
    {
     "name": "stderr",
     "output_type": "stream",
     "text": [
      "/home/victor/anaconda3/lib/python3.8/site-packages/tensorflow_data_validation/utils/display_util.py:180: FutureWarning: Passing a negative integer is deprecated in version 1.0 and will not be supported in future version. Instead, use None to not limit the column width.\n",
      "  pd.set_option('max_colwidth', -1)\n"
     ]
    },
    {
     "data": {
      "text/html": [
       "<div>\n",
       "<style scoped>\n",
       "    .dataframe tbody tr th:only-of-type {\n",
       "        vertical-align: middle;\n",
       "    }\n",
       "\n",
       "    .dataframe tbody tr th {\n",
       "        vertical-align: top;\n",
       "    }\n",
       "\n",
       "    .dataframe thead th {\n",
       "        text-align: right;\n",
       "    }\n",
       "</style>\n",
       "<table border=\"1\" class=\"dataframe\">\n",
       "  <thead>\n",
       "    <tr style=\"text-align: right;\">\n",
       "      <th></th>\n",
       "      <th>Values</th>\n",
       "    </tr>\n",
       "    <tr>\n",
       "      <th>Domain</th>\n",
       "      <th></th>\n",
       "    </tr>\n",
       "  </thead>\n",
       "  <tbody>\n",
       "    <tr>\n",
       "      <th>'Gender'</th>\n",
       "      <td>'Female', 'Male'</td>\n",
       "    </tr>\n",
       "  </tbody>\n",
       "</table>\n",
       "</div>"
      ],
      "text/plain": [
       "                    Values\n",
       "Domain                    \n",
       "'Gender'  'Female', 'Male'"
      ]
     },
     "metadata": {},
     "output_type": "display_data"
    }
   ],
   "source": [
    "# Infer schema from the computed statistics.\n",
    "schema = tfdv.infer_schema(statistics=train_stats)\n",
    "\n",
    "# Display the inferred schema\n",
    "tfdv.display_schema(schema)"
   ]
  },
  {
   "cell_type": "code",
   "execution_count": 11,
   "id": "distant-water",
   "metadata": {},
   "outputs": [],
   "source": [
    "# Generate evaluation dataset statistics\n",
    "eval_stats = tfdv.generate_statistics_from_dataframe(eval_df)"
   ]
  },
  {
   "cell_type": "code",
   "execution_count": 12,
   "id": "cooperative-yukon",
   "metadata": {},
   "outputs": [
    {
     "data": {
      "text/html": [
       "<iframe id='facets-iframe' width=\"100%\" height=\"500px\"></iframe>\n",
       "        <script>\n",
       "        facets_iframe = document.getElementById('facets-iframe');\n",
       "        facets_html = '<script src=\"https://cdnjs.cloudflare.com/ajax/libs/webcomponentsjs/1.3.3/webcomponents-lite.js\"><\\/script><link rel=\"import\" href=\"https://raw.githubusercontent.com/PAIR-code/facets/master/facets-dist/facets-jupyter.html\"><facets-overview proto-input=\"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\"></facets-overview>';\n",
       "        facets_iframe.srcdoc = facets_html;\n",
       "         facets_iframe.id = \"\";\n",
       "         setTimeout(() => {\n",
       "           facets_iframe.setAttribute('height', facets_iframe.contentWindow.document.body.offsetHeight + 'px')\n",
       "         }, 1500)\n",
       "         </script>"
      ],
      "text/plain": [
       "<IPython.core.display.HTML object>"
      ]
     },
     "metadata": {},
     "output_type": "display_data"
    }
   ],
   "source": [
    "# Compare training with evaluation\n",
    "tfdv.visualize_statistics(\n",
    "    lhs_statistics=eval_stats, \n",
    "    rhs_statistics=train_stats, \n",
    "    lhs_name='EVAL_DATASET', \n",
    "    rhs_name='TRAIN_DATASET'\n",
    ")"
   ]
  },
  {
   "cell_type": "code",
   "execution_count": 11,
   "id": "plain-engine",
   "metadata": {},
   "outputs": [
    {
     "name": "stderr",
     "output_type": "stream",
     "text": [
      "/home/victor/anaconda3/lib/python3.8/site-packages/tensorflow_data_validation/utils/display_util.py:217: FutureWarning: Passing a negative integer is deprecated in version 1.0 and will not be supported in future version. Instead, use None to not limit the column width.\n",
      "  pd.set_option('max_colwidth', -1)\n"
     ]
    },
    {
     "data": {
      "text/html": [
       "<div>\n",
       "<style scoped>\n",
       "    .dataframe tbody tr th:only-of-type {\n",
       "        vertical-align: middle;\n",
       "    }\n",
       "\n",
       "    .dataframe tbody tr th {\n",
       "        vertical-align: top;\n",
       "    }\n",
       "\n",
       "    .dataframe thead th {\n",
       "        text-align: right;\n",
       "    }\n",
       "</style>\n",
       "<table border=\"1\" class=\"dataframe\">\n",
       "  <thead>\n",
       "    <tr style=\"text-align: right;\">\n",
       "      <th></th>\n",
       "      <th>Anomaly short description</th>\n",
       "      <th>Anomaly long description</th>\n",
       "    </tr>\n",
       "    <tr>\n",
       "      <th>Feature name</th>\n",
       "      <th></th>\n",
       "      <th></th>\n",
       "    </tr>\n",
       "  </thead>\n",
       "  <tbody>\n",
       "    <tr>\n",
       "      <th>'Gender'</th>\n",
       "      <td>Unexpected string values</td>\n",
       "      <td>Examples contain values missing from the schema: ? (~2%), NonBinary (~2%).</td>\n",
       "    </tr>\n",
       "  </tbody>\n",
       "</table>\n",
       "</div>"
      ],
      "text/plain": [
       "             Anomaly short description  \\\n",
       "Feature name                             \n",
       "'Gender'      Unexpected string values   \n",
       "\n",
       "                                                                 Anomaly long description  \n",
       "Feature name                                                                               \n",
       "'Gender'      Examples contain values missing from the schema: ? (~2%), NonBinary (~2%).   "
      ]
     },
     "metadata": {},
     "output_type": "display_data"
    }
   ],
   "source": [
    "# Check evaluation data for errors by validating the evaluation dataset statistics using the reference schema\n",
    "anomalies =  tfdv.validate_statistics(statistics=eval_stats, schema=schema)\n",
    "\n",
    "# Visualize anomalies\n",
    "tfdv.display_anomalies(anomalies)"
   ]
  },
  {
   "cell_type": "code",
   "execution_count": 14,
   "id": "pleased-norman",
   "metadata": {},
   "outputs": [],
   "source": [
    "# Add new value to the domain of the feature `Gender`\n",
    "gender_domain = tfdv.get_domain(schema, 'Gender')\n",
    "gender_domain.value.append('NonBinary')"
   ]
  },
  {
   "cell_type": "code",
   "execution_count": 15,
   "id": "exotic-illness",
   "metadata": {},
   "outputs": [
    {
     "name": "stderr",
     "output_type": "stream",
     "text": [
      "/home/victor/anaconda3/lib/python3.8/site-packages/tensorflow_data_validation/utils/display_util.py:217: FutureWarning: Passing a negative integer is deprecated in version 1.0 and will not be supported in future version. Instead, use None to not limit the column width.\n",
      "  pd.set_option('max_colwidth', -1)\n"
     ]
    },
    {
     "data": {
      "text/html": [
       "<div>\n",
       "<style scoped>\n",
       "    .dataframe tbody tr th:only-of-type {\n",
       "        vertical-align: middle;\n",
       "    }\n",
       "\n",
       "    .dataframe tbody tr th {\n",
       "        vertical-align: top;\n",
       "    }\n",
       "\n",
       "    .dataframe thead th {\n",
       "        text-align: right;\n",
       "    }\n",
       "</style>\n",
       "<table border=\"1\" class=\"dataframe\">\n",
       "  <thead>\n",
       "    <tr style=\"text-align: right;\">\n",
       "      <th></th>\n",
       "      <th>Anomaly short description</th>\n",
       "      <th>Anomaly long description</th>\n",
       "    </tr>\n",
       "    <tr>\n",
       "      <th>Feature name</th>\n",
       "      <th></th>\n",
       "      <th></th>\n",
       "    </tr>\n",
       "  </thead>\n",
       "  <tbody>\n",
       "    <tr>\n",
       "      <th>'Gender'</th>\n",
       "      <td>Unexpected string values</td>\n",
       "      <td>Examples contain values missing from the schema: ? (~2%).</td>\n",
       "    </tr>\n",
       "  </tbody>\n",
       "</table>\n",
       "</div>"
      ],
      "text/plain": [
       "             Anomaly short description  \\\n",
       "Feature name                             \n",
       "'Gender'      Unexpected string values   \n",
       "\n",
       "                                                Anomaly long description  \n",
       "Feature name                                                              \n",
       "'Gender'      Examples contain values missing from the schema: ? (~2%).   "
      ]
     },
     "metadata": {},
     "output_type": "display_data"
    }
   ],
   "source": [
    "# Check evaluation data for errors by validating the evaluation dataset statistics using the reference schema\n",
    "anomalies =  tfdv.validate_statistics(statistics=eval_stats, schema=schema)\n",
    "\n",
    "# Visualize anomalies\n",
    "tfdv.display_anomalies(anomalies)"
   ]
  },
  {
   "cell_type": "code",
   "execution_count": 20,
   "id": "subtle-particle",
   "metadata": {},
   "outputs": [
    {
     "data": {
      "text/html": [
       "<div>\n",
       "<style scoped>\n",
       "    .dataframe tbody tr th:only-of-type {\n",
       "        vertical-align: middle;\n",
       "    }\n",
       "\n",
       "    .dataframe tbody tr th {\n",
       "        vertical-align: top;\n",
       "    }\n",
       "\n",
       "    .dataframe thead th {\n",
       "        text-align: right;\n",
       "    }\n",
       "</style>\n",
       "<table border=\"1\" class=\"dataframe\">\n",
       "  <thead>\n",
       "    <tr style=\"text-align: right;\">\n",
       "      <th></th>\n",
       "      <th>Type</th>\n",
       "      <th>Presence</th>\n",
       "      <th>Valency</th>\n",
       "      <th>Domain</th>\n",
       "    </tr>\n",
       "    <tr>\n",
       "      <th>Feature name</th>\n",
       "      <th></th>\n",
       "      <th></th>\n",
       "      <th></th>\n",
       "      <th></th>\n",
       "    </tr>\n",
       "  </thead>\n",
       "  <tbody>\n",
       "    <tr>\n",
       "      <th>'CustomerID'</th>\n",
       "      <td>INT</td>\n",
       "      <td>required</td>\n",
       "      <td></td>\n",
       "      <td>-</td>\n",
       "    </tr>\n",
       "    <tr>\n",
       "      <th>'Gender'</th>\n",
       "      <td>STRING</td>\n",
       "      <td>required</td>\n",
       "      <td></td>\n",
       "      <td>'Gender'</td>\n",
       "    </tr>\n",
       "    <tr>\n",
       "      <th>'Age'</th>\n",
       "      <td>INT</td>\n",
       "      <td>required</td>\n",
       "      <td></td>\n",
       "      <td>min: 30; max: 50</td>\n",
       "    </tr>\n",
       "    <tr>\n",
       "      <th>'Annual Income (k$)'</th>\n",
       "      <td>INT</td>\n",
       "      <td>required</td>\n",
       "      <td></td>\n",
       "      <td>-</td>\n",
       "    </tr>\n",
       "    <tr>\n",
       "      <th>'Spending Score (1-100)'</th>\n",
       "      <td>INT</td>\n",
       "      <td>required</td>\n",
       "      <td></td>\n",
       "      <td>-</td>\n",
       "    </tr>\n",
       "  </tbody>\n",
       "</table>\n",
       "</div>"
      ],
      "text/plain": [
       "                            Type  Presence Valency            Domain\n",
       "Feature name                                                        \n",
       "'CustomerID'              INT     required          -               \n",
       "'Gender'                  STRING  required          'Gender'        \n",
       "'Age'                     INT     required          min: 30; max: 50\n",
       "'Annual Income (k$)'      INT     required          -               \n",
       "'Spending Score (1-100)'  INT     required          -               "
      ]
     },
     "metadata": {},
     "output_type": "display_data"
    },
    {
     "name": "stderr",
     "output_type": "stream",
     "text": [
      "/home/victor/anaconda3/lib/python3.8/site-packages/tensorflow_data_validation/utils/display_util.py:180: FutureWarning: Passing a negative integer is deprecated in version 1.0 and will not be supported in future version. Instead, use None to not limit the column width.\n",
      "  pd.set_option('max_colwidth', -1)\n"
     ]
    },
    {
     "data": {
      "text/html": [
       "<div>\n",
       "<style scoped>\n",
       "    .dataframe tbody tr th:only-of-type {\n",
       "        vertical-align: middle;\n",
       "    }\n",
       "\n",
       "    .dataframe tbody tr th {\n",
       "        vertical-align: top;\n",
       "    }\n",
       "\n",
       "    .dataframe thead th {\n",
       "        text-align: right;\n",
       "    }\n",
       "</style>\n",
       "<table border=\"1\" class=\"dataframe\">\n",
       "  <thead>\n",
       "    <tr style=\"text-align: right;\">\n",
       "      <th></th>\n",
       "      <th>Values</th>\n",
       "    </tr>\n",
       "    <tr>\n",
       "      <th>Domain</th>\n",
       "      <th></th>\n",
       "    </tr>\n",
       "  </thead>\n",
       "  <tbody>\n",
       "    <tr>\n",
       "      <th>'Gender'</th>\n",
       "      <td>'Female', 'Male', 'NonBinary', 'NonBinary'</td>\n",
       "    </tr>\n",
       "  </tbody>\n",
       "</table>\n",
       "</div>"
      ],
      "text/plain": [
       "                                              Values\n",
       "Domain                                              \n",
       "'Gender'  'Female', 'Male', 'NonBinary', 'NonBinary'"
      ]
     },
     "metadata": {},
     "output_type": "display_data"
    }
   ],
   "source": [
    "# Restrict the range of the `age` feature\n",
    "tfdv.set_domain(schema, 'Age', schema_pb2.IntDomain(name='age', min=30, max=50))\n",
    "\n",
    "# Display the modified schema. Notice the `Domain` column of `age`.\n",
    "tfdv.display_schema(schema)"
   ]
  },
  {
   "cell_type": "code",
   "execution_count": 21,
   "id": "whole-module",
   "metadata": {},
   "outputs": [
    {
     "name": "stderr",
     "output_type": "stream",
     "text": [
      "/home/victor/anaconda3/lib/python3.8/site-packages/tensorflow_data_validation/utils/display_util.py:217: FutureWarning: Passing a negative integer is deprecated in version 1.0 and will not be supported in future version. Instead, use None to not limit the column width.\n",
      "  pd.set_option('max_colwidth', -1)\n"
     ]
    },
    {
     "data": {
      "text/html": [
       "<div>\n",
       "<style scoped>\n",
       "    .dataframe tbody tr th:only-of-type {\n",
       "        vertical-align: middle;\n",
       "    }\n",
       "\n",
       "    .dataframe tbody tr th {\n",
       "        vertical-align: top;\n",
       "    }\n",
       "\n",
       "    .dataframe thead th {\n",
       "        text-align: right;\n",
       "    }\n",
       "</style>\n",
       "<table border=\"1\" class=\"dataframe\">\n",
       "  <thead>\n",
       "    <tr style=\"text-align: right;\">\n",
       "      <th></th>\n",
       "      <th>Anomaly short description</th>\n",
       "      <th>Anomaly long description</th>\n",
       "    </tr>\n",
       "    <tr>\n",
       "      <th>Feature name</th>\n",
       "      <th></th>\n",
       "      <th></th>\n",
       "    </tr>\n",
       "  </thead>\n",
       "  <tbody>\n",
       "    <tr>\n",
       "      <th>'Age'</th>\n",
       "      <td>Multiple errors</td>\n",
       "      <td>Unexpectedly small value: 19. Unexpectedly large value: 59.</td>\n",
       "    </tr>\n",
       "    <tr>\n",
       "      <th>'Gender'</th>\n",
       "      <td>Unexpected string values</td>\n",
       "      <td>Examples contain values missing from the schema: ? (~2%).</td>\n",
       "    </tr>\n",
       "  </tbody>\n",
       "</table>\n",
       "</div>"
      ],
      "text/plain": [
       "             Anomaly short description  \\\n",
       "Feature name                             \n",
       "'Age'         Multiple errors            \n",
       "'Gender'      Unexpected string values   \n",
       "\n",
       "                                                 Anomaly long description  \n",
       "Feature name                                                               \n",
       "'Age'         Unexpectedly small value: 19. Unexpectedly large value: 59.  \n",
       "'Gender'      Examples contain values missing from the schema: ? (~2%).    "
      ]
     },
     "metadata": {},
     "output_type": "display_data"
    }
   ],
   "source": [
    "# Validate eval stats after updating the schema \n",
    "updated_anomalies = tfdv.validate_statistics(eval_stats, schema)\n",
    "tfdv.display_anomalies(updated_anomalies)"
   ]
  }
 ],
 "metadata": {
  "kernelspec": {
   "display_name": "Python 3.8.8 64-bit ('base': conda)",
   "language": "python",
   "name": "python388jvsc74a57bd099ac092c052c335a585d60519d25aff84681decc510ed8ced49adeb4d0f2067a"
  },
  "language_info": {
   "codemirror_mode": {
    "name": "ipython",
    "version": 3
   },
   "file_extension": ".py",
   "mimetype": "text/x-python",
   "name": "python",
   "nbconvert_exporter": "python",
   "pygments_lexer": "ipython3",
   "version": "3.8.8"
  },
  "toc": {
   "base_numbering": 1,
   "nav_menu": {},
   "number_sections": true,
   "sideBar": true,
   "skip_h1_title": false,
   "title_cell": "Table of Contents",
   "title_sidebar": "Contents",
   "toc_cell": false,
   "toc_position": {},
   "toc_section_display": true,
   "toc_window_display": false
  }
 },
 "nbformat": 4,
 "nbformat_minor": 5
}
